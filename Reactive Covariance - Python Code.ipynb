{
 "cells": [
  {
   "cell_type": "markdown",
   "metadata": {},
   "source": [
    "## Reactive Covariance - Project in Python \n",
    "\n",
    "### I - Leverage Effect (Paper 1) \n"
   ]
  },
  {
   "cell_type": "markdown",
   "metadata": {},
   "source": [
    "#### 1.1 - With an Index"
   ]
  },
  {
   "cell_type": "code",
   "execution_count": 1,
   "metadata": {},
   "outputs": [],
   "source": [
    "# Import relevant libraries\n",
    "\n",
    "import matplotlib.pyplot as plt\n",
    "import pandas as pd\n",
    "import os\n"
   ]
  },
  {
   "cell_type": "code",
   "execution_count": null,
   "metadata": {},
   "outputs": [],
   "source": [
    "# Create a Dictionnary with the name of the stocks that we want to plot \n"
   ]
  },
  {
   "cell_type": "code",
   "execution_count": 2,
   "metadata": {},
   "outputs": [
    {
     "data": {
      "text/html": [
       "<div>\n",
       "<style scoped>\n",
       "    .dataframe tbody tr th:only-of-type {\n",
       "        vertical-align: middle;\n",
       "    }\n",
       "\n",
       "    .dataframe tbody tr th {\n",
       "        vertical-align: top;\n",
       "    }\n",
       "\n",
       "    .dataframe thead th {\n",
       "        text-align: right;\n",
       "    }\n",
       "</style>\n",
       "<table border=\"1\" class=\"dataframe\">\n",
       "  <thead>\n",
       "    <tr style=\"text-align: right;\">\n",
       "      <th></th>\n",
       "      <th>Date</th>\n",
       "      <th>Open</th>\n",
       "      <th>High</th>\n",
       "      <th>Low</th>\n",
       "      <th>Close</th>\n",
       "    </tr>\n",
       "  </thead>\n",
       "  <tbody>\n",
       "    <tr>\n",
       "      <th>0</th>\n",
       "      <td>2010-09-14</td>\n",
       "      <td>89.832</td>\n",
       "      <td>90.390</td>\n",
       "      <td>89.430</td>\n",
       "      <td>90.006</td>\n",
       "    </tr>\n",
       "    <tr>\n",
       "      <th>1</th>\n",
       "      <td>2010-09-15</td>\n",
       "      <td>89.640</td>\n",
       "      <td>90.304</td>\n",
       "      <td>89.447</td>\n",
       "      <td>90.233</td>\n",
       "    </tr>\n",
       "    <tr>\n",
       "      <th>2</th>\n",
       "      <td>2010-09-16</td>\n",
       "      <td>89.988</td>\n",
       "      <td>90.251</td>\n",
       "      <td>89.710</td>\n",
       "      <td>90.197</td>\n",
       "    </tr>\n",
       "    <tr>\n",
       "      <th>3</th>\n",
       "      <td>2010-09-17</td>\n",
       "      <td>90.740</td>\n",
       "      <td>90.740</td>\n",
       "      <td>89.988</td>\n",
       "      <td>90.286</td>\n",
       "    </tr>\n",
       "    <tr>\n",
       "      <th>4</th>\n",
       "      <td>2010-09-20</td>\n",
       "      <td>90.618</td>\n",
       "      <td>91.753</td>\n",
       "      <td>90.374</td>\n",
       "      <td>91.753</td>\n",
       "    </tr>\n",
       "  </tbody>\n",
       "</table>\n",
       "</div>"
      ],
      "text/plain": [
       "         Date    Open    High     Low   Close\n",
       "0  2010-09-14  89.832  90.390  89.430  90.006\n",
       "1  2010-09-15  89.640  90.304  89.447  90.233\n",
       "2  2010-09-16  89.988  90.251  89.710  90.197\n",
       "3  2010-09-17  90.740  90.740  89.988  90.286\n",
       "4  2010-09-20  90.618  91.753  90.374  91.753"
      ]
     },
     "execution_count": 2,
     "metadata": {},
     "output_type": "execute_result"
    }
   ],
   "source": [
    "# Import the data \n",
    "\n",
    "df = pd.read_csv(os.path.join('Data\\ETFs','voo.us.txt'),delimiter=',',usecols=['Date','Open','High','Low','Close']) # This is an S&P 500 ETF\n",
    "df = df.sort_values(\"Date\") # sort the data by date\n",
    "\n",
    "df.head()"
   ]
  },
  {
   "cell_type": "code",
   "execution_count": 3,
   "metadata": {},
   "outputs": [],
   "source": [
    "# This function computes the price change at t + tau (delta x(t+tau)) \n",
    "\n",
    "def delta_t_tau(tau):\n",
    "    return (df[\"Close\"].shift(-tau) - df[\"Close\"].shift(-tau+1))/df[\"Close\"].shift(-tau+1)\n"
   ]
  },
  {
   "cell_type": "code",
   "execution_count": 4,
   "metadata": {},
   "outputs": [],
   "source": [
    "# This function computes Z\n",
    "\n",
    "def Z_hat(tau,T):\n",
    "    \n",
    "    df[\"Interm_Z\"] = (delta_t_tau(tau)**2)  # computes the core of the sum \n",
    "    \n",
    "    return ((1/T)*(df[\"Interm_Z\"].sum())**2) # returns the sum squared normalized by T"
   ]
  },
  {
   "cell_type": "code",
   "execution_count": 5,
   "metadata": {},
   "outputs": [],
   "source": [
    "# This function computes the Leverage L \n",
    "\n",
    "def L_hat(tau,T):\n",
    "    \n",
    "    df[\"Interm_Prod_Delta\"]  = (delta_t_tau(tau))**2*delta_t_tau(0)\n",
    "    \n",
    "    return ((1/(Z_hat(tau,T)*(T-tau)))*df[\"Interm_Prod_Delta\"].sum())\n"
   ]
  },
  {
   "cell_type": "code",
   "execution_count": 6,
   "metadata": {},
   "outputs": [
    {
     "data": {
      "text/plain": [
       "<matplotlib.axes._subplots.AxesSubplot at 0x2a170362898>"
      ]
     },
     "execution_count": 6,
     "metadata": {},
     "output_type": "execute_result"
    },
    {
     "data": {
      "image/png": "[encoded data removed]",
      "text/plain": [
       "<matplotlib.figure.Figure at 0x2a170362198>"
      ]
     },
     "metadata": {
      "needs_background": "light"
     },
     "output_type": "display_data"
    }
   ],
   "source": [
    "# We look tau steps ahead in the future\n",
    "\n",
    "# The available time horizon in our sample is T \n",
    "\n",
    "T = df.shape[0] # size of our sample\n",
    "\n",
    "result_df = pd.DataFrame([])\n",
    "\n",
    "for tau in range(0,250): ## specify the max range here \n",
    " \n",
    "    result_df = result_df.append(pd.DataFrame({\"Tau\":tau,'L_Hat': L_hat(tau,T)}, index=[0]), ignore_index=True)\n",
    "\n",
    "result_df.plot.scatter(x = \"Tau\", y = \"L_Hat\" )"
   ]
  },
  {
   "cell_type": "code",
   "execution_count": 7,
   "metadata": {},
   "outputs": [
    {
     "data": {
      "text/html": [
       "<div>\n",
       "<style scoped>\n",
       "    .dataframe tbody tr th:only-of-type {\n",
       "        vertical-align: middle;\n",
       "    }\n",
       "\n",
       "    .dataframe tbody tr th {\n",
       "        vertical-align: top;\n",
       "    }\n",
       "\n",
       "    .dataframe thead th {\n",
       "        text-align: right;\n",
       "    }\n",
       "</style>\n",
       "<table border=\"1\" class=\"dataframe\">\n",
       "  <thead>\n",
       "    <tr style=\"text-align: right;\">\n",
       "      <th></th>\n",
       "      <th>Tau</th>\n",
       "      <th>L_Hat</th>\n",
       "    </tr>\n",
       "  </thead>\n",
       "  <tbody>\n",
       "    <tr>\n",
       "      <th>0</th>\n",
       "      <td>0</td>\n",
       "      <td>-0.013707</td>\n",
       "    </tr>\n",
       "    <tr>\n",
       "      <th>1</th>\n",
       "      <td>1</td>\n",
       "      <td>-0.012863</td>\n",
       "    </tr>\n",
       "    <tr>\n",
       "      <th>2</th>\n",
       "      <td>2</td>\n",
       "      <td>-0.025084</td>\n",
       "    </tr>\n",
       "    <tr>\n",
       "      <th>3</th>\n",
       "      <td>3</td>\n",
       "      <td>-0.014730</td>\n",
       "    </tr>\n",
       "    <tr>\n",
       "      <th>4</th>\n",
       "      <td>4</td>\n",
       "      <td>-0.012041</td>\n",
       "    </tr>\n",
       "    <tr>\n",
       "      <th>5</th>\n",
       "      <td>5</td>\n",
       "      <td>-0.004083</td>\n",
       "    </tr>\n",
       "    <tr>\n",
       "      <th>6</th>\n",
       "      <td>6</td>\n",
       "      <td>-0.015553</td>\n",
       "    </tr>\n",
       "    <tr>\n",
       "      <th>7</th>\n",
       "      <td>7</td>\n",
       "      <td>-0.003220</td>\n",
       "    </tr>\n",
       "    <tr>\n",
       "      <th>8</th>\n",
       "      <td>8</td>\n",
       "      <td>-0.009537</td>\n",
       "    </tr>\n",
       "    <tr>\n",
       "      <th>9</th>\n",
       "      <td>9</td>\n",
       "      <td>-0.006189</td>\n",
       "    </tr>\n",
       "  </tbody>\n",
       "</table>\n",
       "</div>"
      ],
      "text/plain": [
       "   Tau     L_Hat\n",
       "0    0 -0.013707\n",
       "1    1 -0.012863\n",
       "2    2 -0.025084\n",
       "3    3 -0.014730\n",
       "4    4 -0.012041\n",
       "5    5 -0.004083\n",
       "6    6 -0.015553\n",
       "7    7 -0.003220\n",
       "8    8 -0.009537\n",
       "9    9 -0.006189"
      ]
     },
     "execution_count": 7,
     "metadata": {},
     "output_type": "execute_result"
    }
   ],
   "source": [
    "result_df.head(10)"
   ]
  }
 ],
 "metadata": {
  "kernelspec": {
   "display_name": "Python 3",
   "language": "python",
   "name": "python3"
  },
  "language_info": {
   "codemirror_mode": {
    "name": "ipython",
    "version": 3
   },
   "file_extension": ".py",
   "mimetype": "text/x-python",
   "name": "python",
   "nbconvert_exporter": "python",
   "pygments_lexer": "ipython3",
   "version": "3.6.0"
  }
 },
 "nbformat": 4,
 "nbformat_minor": 2
}
